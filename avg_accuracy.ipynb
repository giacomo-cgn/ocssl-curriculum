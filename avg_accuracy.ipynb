{
 "cells": [
  {
   "cell_type": "code",
   "execution_count": null,
   "metadata": {},
   "outputs": [],
   "source": [
    "import pandas as pd\n",
    "import numpy as np\n",
    "import os"
   ]
  },
  {
   "cell_type": "code",
   "execution_count": null,
   "metadata": {},
   "outputs": [],
   "source": [
    "save_pth = 'logs/replay_simsiam_cifar100_07-12_18-57'\n",
    "probing_pth = 'probe_torch/probing_joint/probing_ratio1'\n",
    "\n",
    "probing_folder = os.path.join(save_pth, probing_pth)"
   ]
  },
  {
   "cell_type": "code",
   "execution_count": null,
   "metadata": {},
   "outputs": [],
   "source": [
    "#  get all .csv files in probing_folder\n",
    "val_acc_list, test_acc_list = [], []\n",
    "for file in os.listdir(probing_folder):\n",
    "    if file.endswith(\".csv\"):\n",
    "        df = pd.read_csv(os.path.join(probing_folder, file))\n",
    "        val_acc_list.append(df['val_acc'].values[0])\n",
    "        test_acc_list.append(df['test_acc'].values[0])\n",
    "\n",
    "avg_val_acc = np.mean(val_acc_list)\n",
    "avg_test_acc = np.mean(test_acc_list)\n",
    "\n",
    "print(f\"Average Validation Accuracy: {avg_val_acc}\")\n",
    "print(f\"Average Test Accuracy: {avg_test_acc}\")"
   ]
  }
 ],
 "metadata": {
  "kernelspec": {
   "display_name": "cl_ssl",
   "language": "python",
   "name": "python3"
  },
  "language_info": {
   "codemirror_mode": {
    "name": "ipython",
    "version": 3
   },
   "file_extension": ".py",
   "mimetype": "text/x-python",
   "name": "python",
   "nbconvert_exporter": "python",
   "pygments_lexer": "ipython3",
   "version": "3.10.13"
  }
 },
 "nbformat": 4,
 "nbformat_minor": 2
}
